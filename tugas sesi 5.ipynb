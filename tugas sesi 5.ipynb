{
 "cells": [
  {
   "cell_type": "markdown",
   "id": "70d6fb18",
   "metadata": {},
   "source": [
    "<hr>\n",
    "<h1>Tugas Sesi 5</h1>\n"
   ]
  },
  {
   "cell_type": "markdown",
   "id": "d407b197",
   "metadata": {},
   "source": [
    "<b>1. Buatlah biodata sederhana dengan menggunakan fungsi input(), dan output variabel dengan fungsi format().</b>"
   ]
  },
  {
   "cell_type": "code",
   "execution_count": 1,
   "id": "25f3e3f8",
   "metadata": {},
   "outputs": [
    {
     "name": "stdout",
     "output_type": "stream",
     "text": [
      "masukan nama :Amanda nursafitri\n",
      "masukan kelas :ti22h\n",
      "masukan prodi :teknik informatika\n",
      "masukan umur :18\n",
      "masukan hobi :ngehaluin masa depan\n",
      "masukan quotes :aku selamat ketika aku melintasi luasnya lautan. tapi, aku tenggelam melihat matamu\n",
      "Halo, perkenalkan nama saya Amanda nursafitri,kelas ti22h,program studi teknik informatika. saat ini saya berumur 18 tahun dan hobi saya adalah ngehaluin masa depan quotes aku selamat ketika aku melintasi luasnya lautan. tapi, aku tenggelam melihat matamu \n"
     ]
    }
   ],
   "source": [
    "#deklarasi variabel dan input\n",
    "#variabel nama\n",
    "nama=input(\"masukan nama :\")\n",
    "#variabel kelas\n",
    "kelas=input(\"masukan kelas :\")\n",
    "#variabel prodi (program studi)\n",
    "prodi=input(\"masukan prodi :\")\n",
    "#variabel umurr\n",
    "umur=input(\"masukan umur :\")\n",
    "#variabel hobi\n",
    "hobi=input(\"masukan hobi :\")\n",
    "#variabel quotes\n",
    "quotes=input(\"masukan quotes :\")\n",
    "#membuat output dengan fungsi .format()\n",
    "print(\"Halo, perkenalkan nama saya {},kelas {},program studi {}. saat ini saya berumur {} tahun dan hobi saya adalah {} quotes {} \".format(nama,kelas,prodi,umur,hobi,quotes))"
   ]
  },
  {
   "cell_type": "markdown",
   "id": "5592e824",
   "metadata": {},
   "source": [
    "  \n",
    "2. Jika terdapat kalimat UNIVERSITAS NUSA PUTRA SUKABUMI buatlah kode\n",
    "program untuk menampilkan output:\n",
    "<ol>\n",
    "    <li>putra nusa</li>\n",
    "    <li>NIVERSITAS NSA PTRA SKABMI</li>\n",
    "    <li>SUKABUMI PUTRA NUSA UNIVERSITAS</li>\n",
    "    <li>UNPS</li>\n",
    "    <li>TAS SAPU BUMI</li>\n",
    "</ol>"
   ]
  },
  {
   "cell_type": "code",
   "execution_count": 5,
   "id": "afc7fcd9",
   "metadata": {},
   "outputs": [
    {
     "name": "stdout",
     "output_type": "stream",
     "text": [
      "point a : putra nusa\n",
      "point b : NIVERSITAS NSA PTRA SKABMI\n",
      "point c : SUKABUMI PUTRA NUSA UNIVERSITAS\n",
      "point d : UNPS\n",
      "point e : TAS SAPU BUMI\n"
     ]
    }
   ],
   "source": [
    "#deklarasi varibel\n",
    "kalimat = \"UNIVERSITAS NUSA PUTRA SUKABUMI\"\n",
    "\n",
    "#membuat output point a dengan mengambil index dan membuanya menjadi huruf kecil \n",
    "print(\"point a :\",kalimat[17:22].lower(),kalimat[12:16].lower()) #output : putra nusa\n",
    "#membuat output point b \n",
    "print(\"point b :\",kalimat[1:11],kalimat[12]+kalimat[14:16],kalimat[17]+kalimat[19:22],kalimat[23]+kalimat[25:28]+kalimat[29:31]) #output : NIVERSITAS NSA PTRA SKABMI\n",
    "#membuat output point c \n",
    "print(\"point c :\",kalimat[23:31],kalimat[17:22],kalimat[12:16],kalimat[0:11]) #output : SUKABUMI PUTRA NUSA UNIVERSITAS\n",
    "#membuat output point d\n",
    "print(\"point d :\",kalimat[0]+kalimat[12]+kalimat[17]+kalimat[23]) #output : UNPS \n",
    "#membuat output point e\n",
    "print(\"point e :\",kalimat[8:11],kalimat[14:16]+kalimat[17:19],kalimat[27:31]) #output : TAS SAPU BUMI"
   ]
  }
 ],
 "metadata": {
  "kernelspec": {
   "display_name": "Python 3 (ipykernel)",
   "language": "python",
   "name": "python3"
  },
  "language_info": {
   "codemirror_mode": {
    "name": "ipython",
    "version": 3
   },
   "file_extension": ".py",
   "mimetype": "text/x-python",
   "name": "python",
   "nbconvert_exporter": "python",
   "pygments_lexer": "ipython3",
   "version": "3.9.12"
  }
 },
 "nbformat": 4,
 "nbformat_minor": 5
}
